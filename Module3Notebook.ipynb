{
 "cells": [
  {
   "cell_type": "code",
   "execution_count": 1,
   "id": "0f579df1",
   "metadata": {},
   "outputs": [],
   "source": [
    "import pandas as pd\n",
    "import matplotlib.pyplot as plt\n",
    "import seaborn as sns\n",
    "import seaborn as sns, numpy as np\n",
    "import plotly.express as px\n",
    "from pylab import *\n",
    "import warnings\n",
    "warnings.filterwarnings('ignore')"
   ]
  },
  {
   "cell_type": "code",
   "execution_count": 2,
   "id": "3e1f59b1",
   "metadata": {},
   "outputs": [
    {
     "ename": "FileNotFoundError",
     "evalue": "[Errno 2] No such file or directory: 'listings.csv'",
     "output_type": "error",
     "traceback": [
      "\u001b[0;31m---------------------------------------------------------------------------\u001b[0m",
      "\u001b[0;31mFileNotFoundError\u001b[0m                         Traceback (most recent call last)",
      "\u001b[0;32m/var/folders/95/1sdvpy4s6g5275qlfb4qx_gr0000gn/T/ipykernel_2221/1140597625.py\u001b[0m in \u001b[0;36m<module>\u001b[0;34m\u001b[0m\n\u001b[0;32m----> 1\u001b[0;31m \u001b[0moriginal_df\u001b[0m \u001b[0;34m=\u001b[0m \u001b[0mpd\u001b[0m\u001b[0;34m.\u001b[0m\u001b[0mread_csv\u001b[0m\u001b[0;34m(\u001b[0m\u001b[0;34m\"listings.csv\"\u001b[0m\u001b[0;34m)\u001b[0m\u001b[0;34m\u001b[0m\u001b[0;34m\u001b[0m\u001b[0m\n\u001b[0m\u001b[1;32m      2\u001b[0m \u001b[0mcalendar\u001b[0m \u001b[0;34m=\u001b[0m \u001b[0mpd\u001b[0m\u001b[0;34m.\u001b[0m\u001b[0mread_csv\u001b[0m\u001b[0;34m(\u001b[0m\u001b[0;34m\"calendar.csv\"\u001b[0m\u001b[0;34m)\u001b[0m\u001b[0;34m\u001b[0m\u001b[0;34m\u001b[0m\u001b[0m\n",
      "\u001b[0;32m~/opt/anaconda3/lib/python3.9/site-packages/pandas/util/_decorators.py\u001b[0m in \u001b[0;36mwrapper\u001b[0;34m(*args, **kwargs)\u001b[0m\n\u001b[1;32m    309\u001b[0m                     \u001b[0mstacklevel\u001b[0m\u001b[0;34m=\u001b[0m\u001b[0mstacklevel\u001b[0m\u001b[0;34m,\u001b[0m\u001b[0;34m\u001b[0m\u001b[0;34m\u001b[0m\u001b[0m\n\u001b[1;32m    310\u001b[0m                 )\n\u001b[0;32m--> 311\u001b[0;31m             \u001b[0;32mreturn\u001b[0m \u001b[0mfunc\u001b[0m\u001b[0;34m(\u001b[0m\u001b[0;34m*\u001b[0m\u001b[0margs\u001b[0m\u001b[0;34m,\u001b[0m \u001b[0;34m**\u001b[0m\u001b[0mkwargs\u001b[0m\u001b[0;34m)\u001b[0m\u001b[0;34m\u001b[0m\u001b[0;34m\u001b[0m\u001b[0m\n\u001b[0m\u001b[1;32m    312\u001b[0m \u001b[0;34m\u001b[0m\u001b[0m\n\u001b[1;32m    313\u001b[0m         \u001b[0;32mreturn\u001b[0m \u001b[0mwrapper\u001b[0m\u001b[0;34m\u001b[0m\u001b[0;34m\u001b[0m\u001b[0m\n",
      "\u001b[0;32m~/opt/anaconda3/lib/python3.9/site-packages/pandas/io/parsers/readers.py\u001b[0m in \u001b[0;36mread_csv\u001b[0;34m(filepath_or_buffer, sep, delimiter, header, names, index_col, usecols, squeeze, prefix, mangle_dupe_cols, dtype, engine, converters, true_values, false_values, skipinitialspace, skiprows, skipfooter, nrows, na_values, keep_default_na, na_filter, verbose, skip_blank_lines, parse_dates, infer_datetime_format, keep_date_col, date_parser, dayfirst, cache_dates, iterator, chunksize, compression, thousands, decimal, lineterminator, quotechar, quoting, doublequote, escapechar, comment, encoding, encoding_errors, dialect, error_bad_lines, warn_bad_lines, on_bad_lines, delim_whitespace, low_memory, memory_map, float_precision, storage_options)\u001b[0m\n\u001b[1;32m    584\u001b[0m     \u001b[0mkwds\u001b[0m\u001b[0;34m.\u001b[0m\u001b[0mupdate\u001b[0m\u001b[0;34m(\u001b[0m\u001b[0mkwds_defaults\u001b[0m\u001b[0;34m)\u001b[0m\u001b[0;34m\u001b[0m\u001b[0;34m\u001b[0m\u001b[0m\n\u001b[1;32m    585\u001b[0m \u001b[0;34m\u001b[0m\u001b[0m\n\u001b[0;32m--> 586\u001b[0;31m     \u001b[0;32mreturn\u001b[0m \u001b[0m_read\u001b[0m\u001b[0;34m(\u001b[0m\u001b[0mfilepath_or_buffer\u001b[0m\u001b[0;34m,\u001b[0m \u001b[0mkwds\u001b[0m\u001b[0;34m)\u001b[0m\u001b[0;34m\u001b[0m\u001b[0;34m\u001b[0m\u001b[0m\n\u001b[0m\u001b[1;32m    587\u001b[0m \u001b[0;34m\u001b[0m\u001b[0m\n\u001b[1;32m    588\u001b[0m \u001b[0;34m\u001b[0m\u001b[0m\n",
      "\u001b[0;32m~/opt/anaconda3/lib/python3.9/site-packages/pandas/io/parsers/readers.py\u001b[0m in \u001b[0;36m_read\u001b[0;34m(filepath_or_buffer, kwds)\u001b[0m\n\u001b[1;32m    480\u001b[0m \u001b[0;34m\u001b[0m\u001b[0m\n\u001b[1;32m    481\u001b[0m     \u001b[0;31m# Create the parser.\u001b[0m\u001b[0;34m\u001b[0m\u001b[0;34m\u001b[0m\u001b[0m\n\u001b[0;32m--> 482\u001b[0;31m     \u001b[0mparser\u001b[0m \u001b[0;34m=\u001b[0m \u001b[0mTextFileReader\u001b[0m\u001b[0;34m(\u001b[0m\u001b[0mfilepath_or_buffer\u001b[0m\u001b[0;34m,\u001b[0m \u001b[0;34m**\u001b[0m\u001b[0mkwds\u001b[0m\u001b[0;34m)\u001b[0m\u001b[0;34m\u001b[0m\u001b[0;34m\u001b[0m\u001b[0m\n\u001b[0m\u001b[1;32m    483\u001b[0m \u001b[0;34m\u001b[0m\u001b[0m\n\u001b[1;32m    484\u001b[0m     \u001b[0;32mif\u001b[0m \u001b[0mchunksize\u001b[0m \u001b[0;32mor\u001b[0m \u001b[0miterator\u001b[0m\u001b[0;34m:\u001b[0m\u001b[0;34m\u001b[0m\u001b[0;34m\u001b[0m\u001b[0m\n",
      "\u001b[0;32m~/opt/anaconda3/lib/python3.9/site-packages/pandas/io/parsers/readers.py\u001b[0m in \u001b[0;36m__init__\u001b[0;34m(self, f, engine, **kwds)\u001b[0m\n\u001b[1;32m    809\u001b[0m             \u001b[0mself\u001b[0m\u001b[0;34m.\u001b[0m\u001b[0moptions\u001b[0m\u001b[0;34m[\u001b[0m\u001b[0;34m\"has_index_names\"\u001b[0m\u001b[0;34m]\u001b[0m \u001b[0;34m=\u001b[0m \u001b[0mkwds\u001b[0m\u001b[0;34m[\u001b[0m\u001b[0;34m\"has_index_names\"\u001b[0m\u001b[0;34m]\u001b[0m\u001b[0;34m\u001b[0m\u001b[0;34m\u001b[0m\u001b[0m\n\u001b[1;32m    810\u001b[0m \u001b[0;34m\u001b[0m\u001b[0m\n\u001b[0;32m--> 811\u001b[0;31m         \u001b[0mself\u001b[0m\u001b[0;34m.\u001b[0m\u001b[0m_engine\u001b[0m \u001b[0;34m=\u001b[0m \u001b[0mself\u001b[0m\u001b[0;34m.\u001b[0m\u001b[0m_make_engine\u001b[0m\u001b[0;34m(\u001b[0m\u001b[0mself\u001b[0m\u001b[0;34m.\u001b[0m\u001b[0mengine\u001b[0m\u001b[0;34m)\u001b[0m\u001b[0;34m\u001b[0m\u001b[0;34m\u001b[0m\u001b[0m\n\u001b[0m\u001b[1;32m    812\u001b[0m \u001b[0;34m\u001b[0m\u001b[0m\n\u001b[1;32m    813\u001b[0m     \u001b[0;32mdef\u001b[0m \u001b[0mclose\u001b[0m\u001b[0;34m(\u001b[0m\u001b[0mself\u001b[0m\u001b[0;34m)\u001b[0m\u001b[0;34m:\u001b[0m\u001b[0;34m\u001b[0m\u001b[0;34m\u001b[0m\u001b[0m\n",
      "\u001b[0;32m~/opt/anaconda3/lib/python3.9/site-packages/pandas/io/parsers/readers.py\u001b[0m in \u001b[0;36m_make_engine\u001b[0;34m(self, engine)\u001b[0m\n\u001b[1;32m   1038\u001b[0m             )\n\u001b[1;32m   1039\u001b[0m         \u001b[0;31m# error: Too many arguments for \"ParserBase\"\u001b[0m\u001b[0;34m\u001b[0m\u001b[0;34m\u001b[0m\u001b[0m\n\u001b[0;32m-> 1040\u001b[0;31m         \u001b[0;32mreturn\u001b[0m \u001b[0mmapping\u001b[0m\u001b[0;34m[\u001b[0m\u001b[0mengine\u001b[0m\u001b[0;34m]\u001b[0m\u001b[0;34m(\u001b[0m\u001b[0mself\u001b[0m\u001b[0;34m.\u001b[0m\u001b[0mf\u001b[0m\u001b[0;34m,\u001b[0m \u001b[0;34m**\u001b[0m\u001b[0mself\u001b[0m\u001b[0;34m.\u001b[0m\u001b[0moptions\u001b[0m\u001b[0;34m)\u001b[0m  \u001b[0;31m# type: ignore[call-arg]\u001b[0m\u001b[0;34m\u001b[0m\u001b[0;34m\u001b[0m\u001b[0m\n\u001b[0m\u001b[1;32m   1041\u001b[0m \u001b[0;34m\u001b[0m\u001b[0m\n\u001b[1;32m   1042\u001b[0m     \u001b[0;32mdef\u001b[0m \u001b[0m_failover_to_python\u001b[0m\u001b[0;34m(\u001b[0m\u001b[0mself\u001b[0m\u001b[0;34m)\u001b[0m\u001b[0;34m:\u001b[0m\u001b[0;34m\u001b[0m\u001b[0;34m\u001b[0m\u001b[0m\n",
      "\u001b[0;32m~/opt/anaconda3/lib/python3.9/site-packages/pandas/io/parsers/c_parser_wrapper.py\u001b[0m in \u001b[0;36m__init__\u001b[0;34m(self, src, **kwds)\u001b[0m\n\u001b[1;32m     49\u001b[0m \u001b[0;34m\u001b[0m\u001b[0m\n\u001b[1;32m     50\u001b[0m         \u001b[0;31m# open handles\u001b[0m\u001b[0;34m\u001b[0m\u001b[0;34m\u001b[0m\u001b[0m\n\u001b[0;32m---> 51\u001b[0;31m         \u001b[0mself\u001b[0m\u001b[0;34m.\u001b[0m\u001b[0m_open_handles\u001b[0m\u001b[0;34m(\u001b[0m\u001b[0msrc\u001b[0m\u001b[0;34m,\u001b[0m \u001b[0mkwds\u001b[0m\u001b[0;34m)\u001b[0m\u001b[0;34m\u001b[0m\u001b[0;34m\u001b[0m\u001b[0m\n\u001b[0m\u001b[1;32m     52\u001b[0m         \u001b[0;32massert\u001b[0m \u001b[0mself\u001b[0m\u001b[0;34m.\u001b[0m\u001b[0mhandles\u001b[0m \u001b[0;32mis\u001b[0m \u001b[0;32mnot\u001b[0m \u001b[0;32mNone\u001b[0m\u001b[0;34m\u001b[0m\u001b[0;34m\u001b[0m\u001b[0m\n\u001b[1;32m     53\u001b[0m \u001b[0;34m\u001b[0m\u001b[0m\n",
      "\u001b[0;32m~/opt/anaconda3/lib/python3.9/site-packages/pandas/io/parsers/base_parser.py\u001b[0m in \u001b[0;36m_open_handles\u001b[0;34m(self, src, kwds)\u001b[0m\n\u001b[1;32m    220\u001b[0m         \u001b[0mLet\u001b[0m \u001b[0mthe\u001b[0m \u001b[0mreaders\u001b[0m \u001b[0mopen\u001b[0m \u001b[0mIOHandles\u001b[0m \u001b[0mafter\u001b[0m \u001b[0mthey\u001b[0m \u001b[0mare\u001b[0m \u001b[0mdone\u001b[0m \u001b[0;32mwith\u001b[0m \u001b[0mtheir\u001b[0m \u001b[0mpotential\u001b[0m \u001b[0mraises\u001b[0m\u001b[0;34m.\u001b[0m\u001b[0;34m\u001b[0m\u001b[0;34m\u001b[0m\u001b[0m\n\u001b[1;32m    221\u001b[0m         \"\"\"\n\u001b[0;32m--> 222\u001b[0;31m         self.handles = get_handle(\n\u001b[0m\u001b[1;32m    223\u001b[0m             \u001b[0msrc\u001b[0m\u001b[0;34m,\u001b[0m\u001b[0;34m\u001b[0m\u001b[0;34m\u001b[0m\u001b[0m\n\u001b[1;32m    224\u001b[0m             \u001b[0;34m\"r\"\u001b[0m\u001b[0;34m,\u001b[0m\u001b[0;34m\u001b[0m\u001b[0;34m\u001b[0m\u001b[0m\n",
      "\u001b[0;32m~/opt/anaconda3/lib/python3.9/site-packages/pandas/io/common.py\u001b[0m in \u001b[0;36mget_handle\u001b[0;34m(path_or_buf, mode, encoding, compression, memory_map, is_text, errors, storage_options)\u001b[0m\n\u001b[1;32m    700\u001b[0m         \u001b[0;32mif\u001b[0m \u001b[0mioargs\u001b[0m\u001b[0;34m.\u001b[0m\u001b[0mencoding\u001b[0m \u001b[0;32mand\u001b[0m \u001b[0;34m\"b\"\u001b[0m \u001b[0;32mnot\u001b[0m \u001b[0;32min\u001b[0m \u001b[0mioargs\u001b[0m\u001b[0;34m.\u001b[0m\u001b[0mmode\u001b[0m\u001b[0;34m:\u001b[0m\u001b[0;34m\u001b[0m\u001b[0;34m\u001b[0m\u001b[0m\n\u001b[1;32m    701\u001b[0m             \u001b[0;31m# Encoding\u001b[0m\u001b[0;34m\u001b[0m\u001b[0;34m\u001b[0m\u001b[0m\n\u001b[0;32m--> 702\u001b[0;31m             handle = open(\n\u001b[0m\u001b[1;32m    703\u001b[0m                 \u001b[0mhandle\u001b[0m\u001b[0;34m,\u001b[0m\u001b[0;34m\u001b[0m\u001b[0;34m\u001b[0m\u001b[0m\n\u001b[1;32m    704\u001b[0m                 \u001b[0mioargs\u001b[0m\u001b[0;34m.\u001b[0m\u001b[0mmode\u001b[0m\u001b[0;34m,\u001b[0m\u001b[0;34m\u001b[0m\u001b[0;34m\u001b[0m\u001b[0m\n",
      "\u001b[0;31mFileNotFoundError\u001b[0m: [Errno 2] No such file or directory: 'listings.csv'"
     ]
    }
   ],
   "source": [
    "original_df = pd.read_csv(\"listings.csv\")\n",
    "calendar = pd.read_csv(\"calendar.csv\")"
   ]
  },
  {
   "cell_type": "code",
   "execution_count": null,
   "id": "ad17374c",
   "metadata": {},
   "outputs": [],
   "source": [
    "calendar.head()"
   ]
  },
  {
   "cell_type": "code",
   "execution_count": null,
   "id": "e8313f34",
   "metadata": {},
   "outputs": [],
   "source": [
    "calendar.info()"
   ]
  },
  {
   "cell_type": "markdown",
   "id": "28217114",
   "metadata": {},
   "source": [
    "### Data Cleaning"
   ]
  },
  {
   "cell_type": "markdown",
   "id": "06dbe924",
   "metadata": {},
   "source": [
    "##### 1. Original data description"
   ]
  },
  {
   "cell_type": "code",
   "execution_count": null,
   "id": "156bcb91",
   "metadata": {},
   "outputs": [],
   "source": [
    "print('Numer of rows and columns of the data set before cleaning: ')\n",
    "original_df.shape"
   ]
  },
  {
   "cell_type": "markdown",
   "id": "7abfc133",
   "metadata": {},
   "source": [
    "There are 92 features and 3,818 records in the original data set."
   ]
  },
  {
   "cell_type": "code",
   "execution_count": null,
   "id": "0b533aa1",
   "metadata": {},
   "outputs": [],
   "source": [
    "original_df.dtypes"
   ]
  },
  {
   "cell_type": "code",
   "execution_count": null,
   "id": "c8e3e0ca",
   "metadata": {},
   "outputs": [],
   "source": [
    "original_df.columns"
   ]
  },
  {
   "cell_type": "markdown",
   "id": "53181141",
   "metadata": {},
   "source": [
    "Calendar"
   ]
  },
  {
   "cell_type": "code",
   "execution_count": null,
   "id": "bf329550",
   "metadata": {},
   "outputs": [],
   "source": [
    "cal = calendar.copy()\n",
    "cal['listing_id'].nunique()"
   ]
  },
  {
   "cell_type": "code",
   "execution_count": null,
   "id": "c767ec93",
   "metadata": {},
   "outputs": [],
   "source": [
    "#create a new column month to extract the month from the date field\n",
    "cal['mon'] = pd.DatetimeIndex(cal['date']).month\n",
    "cal.groupby('mon')['listing_id'].nunique()"
   ]
  },
  {
   "cell_type": "code",
   "execution_count": null,
   "id": "6cc97d4c",
   "metadata": {},
   "outputs": [],
   "source": [
    "# Strip off '$' from price since all are dollar and we need to analyze price as a number\n",
    "cal.dropna(subset=['price'], inplace=True)\n",
    "cal['price'] = cal['price'].str[1:]\n",
    "\n",
    "# Replace ',' from the price and then convert it to float\n",
    "cal['price'] = cal['price'].apply(lambda x: float(x.split()[0].replace(',', '')))"
   ]
  },
  {
   "cell_type": "code",
   "execution_count": null,
   "id": "8f897317",
   "metadata": {},
   "outputs": [],
   "source": [
    "cal.info()"
   ]
  },
  {
   "cell_type": "markdown",
   "id": "c1356552",
   "metadata": {},
   "source": [
    "##### 2. Checking duplications of the data set"
   ]
  },
  {
   "cell_type": "code",
   "execution_count": null,
   "id": "1a52502b",
   "metadata": {
    "scrolled": true
   },
   "outputs": [],
   "source": [
    "duplicated = original_df.duplicated()\n",
    "print(duplicated)"
   ]
  },
  {
   "cell_type": "markdown",
   "id": "0f342758",
   "metadata": {},
   "source": [
    "There are no duplications in the data set."
   ]
  },
  {
   "cell_type": "markdown",
   "id": "c55e6e83",
   "metadata": {},
   "source": [
    "##### 3. Checking the missing values of the data set"
   ]
  },
  {
   "cell_type": "code",
   "execution_count": null,
   "id": "0e69b434",
   "metadata": {},
   "outputs": [],
   "source": [
    "missing = original_df.isnull().mean().round(4)\n",
    "missing"
   ]
  },
  {
   "cell_type": "code",
   "execution_count": null,
   "id": "70ec7ebf",
   "metadata": {},
   "outputs": [],
   "source": [
    "missing[missing > 0.2]"
   ]
  },
  {
   "cell_type": "markdown",
   "id": "71539b70",
   "metadata": {},
   "source": [
    "Columns listing above contain more than 20% of missing values."
   ]
  },
  {
   "cell_type": "markdown",
   "id": "32405b70",
   "metadata": {},
   "source": [
    "Calendar"
   ]
  },
  {
   "cell_type": "code",
   "execution_count": null,
   "id": "5df58db8",
   "metadata": {},
   "outputs": [],
   "source": [
    "# Drop nulls in column price since any kind of imputation may not be best here\n",
    "print(len(cal))\n",
    "cal.dropna(subset=['price'], inplace=True)\n",
    "\n",
    "#validating\n",
    "print(len(cal))"
   ]
  },
  {
   "cell_type": "markdown",
   "id": "34ffa0fc",
   "metadata": {},
   "source": [
    "##### 4. Dropping columns"
   ]
  },
  {
   "cell_type": "code",
   "execution_count": null,
   "id": "b9dadbfc",
   "metadata": {},
   "outputs": [],
   "source": [
    "df = original_df.drop(columns =['id','space', 'listing_url', 'scrape_id','last_scraped','experiences_offered','thumbnail_url','medium_url', 'picture_url',\n",
    "                               'xl_picture_url','host_name', 'host_url','host_location','host_since','host_thumbnail_url', 'host_picture_url','host_neighbourhood',\n",
    "                               'host_total_listings_count', 'host_verifications','host_has_profile_pic','street', 'neighbourhood','neighbourhood_cleansed','market',\n",
    "                               'smart_location', 'country_code', 'country','bed_type','weekly_price', 'monthly_price',\n",
    "                                'security_deposit','cleaning_fee', 'calendar_updated','first_review', 'last_review','requires_license','license', 'jurisdiction_names',\n",
    "                               'require_guest_profile_picture','require_guest_phone_verification','calculated_host_listings_count'])"
   ]
  },
  {
   "cell_type": "markdown",
   "id": "a7dd6866",
   "metadata": {},
   "source": [
    "To aviod the overfitting and shift of accuracy of the model, above columns are going to be dropped off from data set. The removed columns are either unrelated features to the questions proposed or containing more than 30% of missing values."
   ]
  },
  {
   "cell_type": "code",
   "execution_count": null,
   "id": "eb64503a",
   "metadata": {},
   "outputs": [],
   "source": [
    "df.columns"
   ]
  },
  {
   "cell_type": "markdown",
   "id": "1ebc8da3",
   "metadata": {},
   "source": [
    "Columns that listed above are kept for later analysis."
   ]
  },
  {
   "cell_type": "code",
   "execution_count": null,
   "id": "d650cf15",
   "metadata": {},
   "outputs": [],
   "source": [
    "df.info()"
   ]
  },
  {
   "cell_type": "code",
   "execution_count": null,
   "id": "3c060c2f",
   "metadata": {
    "scrolled": false
   },
   "outputs": [],
   "source": [
    "print(df.isna().any())"
   ]
  },
  {
   "cell_type": "code",
   "execution_count": null,
   "id": "ef672063",
   "metadata": {},
   "outputs": [],
   "source": [
    "df_na = df.isna().sum()\n",
    "df_na"
   ]
  },
  {
   "cell_type": "code",
   "execution_count": null,
   "id": "d4770b1f",
   "metadata": {
    "scrolled": true
   },
   "outputs": [],
   "source": [
    "df.isna().sum()"
   ]
  },
  {
   "cell_type": "markdown",
   "id": "fd218141",
   "metadata": {},
   "source": [
    "Though there are still missing values including in the data set, the columns are kept for now and the missing values are going to be filled up by mean or other significant indicators. "
   ]
  },
  {
   "cell_type": "markdown",
   "id": "79c68fb7",
   "metadata": {},
   "source": [
    "For the data cleaning part, we are checking the duplications and missing values from the orginal dataset. \n",
    "1. There is no duplication in the data set.\n",
    "2. Columns with more than 20% missing values are listed for later processing.\n",
    "2. Unrelated attributes or columns that containing more than 30% of missing values are removed."
   ]
  },
  {
   "cell_type": "code",
   "execution_count": null,
   "id": "2c88e813",
   "metadata": {},
   "outputs": [],
   "source": [
    "# Strip off '$' from price since all are dollar and we need to analyze price as a number\n",
    "df.dropna(subset=['price'], inplace=True)\n",
    "df['price'] = df['price'].str[1:]\n",
    "\n",
    "# Replace ',' from the price and then convert it to float\n",
    "df['price'] = df['price'].apply(lambda x: float(x.split()[0].replace(',', '')))"
   ]
  },
  {
   "cell_type": "code",
   "execution_count": null,
   "id": "36cfaedb",
   "metadata": {},
   "outputs": [],
   "source": [
    "print('Numer of rows and columns of the data set after cleaning: ')\n",
    "df.shape"
   ]
  },
  {
   "cell_type": "markdown",
   "id": "e35ad443",
   "metadata": {},
   "source": [
    "After the data cleaning, 51 features and 3,818 rows are kept for exploratory data analysis."
   ]
  },
  {
   "cell_type": "code",
   "execution_count": null,
   "id": "785f71a5",
   "metadata": {},
   "outputs": [],
   "source": [
    "f,ax = plt.subplots(figsize=(15,10))\n",
    "df.boxplot(column=['reviews_per_month','review_scores_value','review_scores_checkin','availability_30','availability_60','availability_90'])\n"
   ]
  },
  {
   "cell_type": "code",
   "execution_count": null,
   "id": "ef5cf88c",
   "metadata": {},
   "outputs": [],
   "source": [
    "pd.factorize(df.property_type)"
   ]
  },
  {
   "cell_type": "code",
   "execution_count": null,
   "id": "4749eae8",
   "metadata": {},
   "outputs": [],
   "source": [
    "f,ax = plt.subplots(figsize=(20,5))\n",
    "ax = sns.countplot(df.property_type,palette=\"muted\",order = df['property_type'].value_counts().index)\n",
    "plt.show()"
   ]
  },
  {
   "cell_type": "markdown",
   "id": "0db4c3c0",
   "metadata": {},
   "source": [
    "<b>Most of the property types are House and Apartment around 1700 each.</b>"
   ]
  },
  {
   "cell_type": "code",
   "execution_count": null,
   "id": "f1b0203d",
   "metadata": {},
   "outputs": [],
   "source": [
    "f,ax = plt.subplots(figsize=(15,10))\n",
    "df.isna().sum()[df.isna().sum()>0].plot(kind='bar')"
   ]
  },
  {
   "cell_type": "markdown",
   "id": "a8e02eeb",
   "metadata": {},
   "source": [
    "Square Feet column has the most null values"
   ]
  },
  {
   "cell_type": "code",
   "execution_count": null,
   "id": "4ca7b6f3",
   "metadata": {},
   "outputs": [],
   "source": [
    "f,ax = plt.subplots(figsize=(25,10))\n",
    "ax = sns.scatterplot(y=df.latitude,x=df.longitude,hue=df.neighbourhood_group_cleansed,palette=\"coolwarm\")\n",
    "plt.show()"
   ]
  },
  {
   "cell_type": "markdown",
   "id": "111a4240",
   "metadata": {},
   "source": [
    "Queen Anne, Lake City and Capitol Hill has highest number of Airbnbs."
   ]
  },
  {
   "cell_type": "code",
   "execution_count": null,
   "id": "f33581f6",
   "metadata": {},
   "outputs": [],
   "source": [
    "f,ax = plt.subplots(figsize=(15,5))\n",
    "ax = sns.distplot(df.availability_30)\n",
    "plt.show()"
   ]
  },
  {
   "cell_type": "code",
   "execution_count": null,
   "id": "55e17ac0",
   "metadata": {
    "scrolled": true
   },
   "outputs": [],
   "source": [
    "sns.set(rc={\"figure.figsize\": (16, 8)});\n",
    "np.random.seed(0)\n",
    "x = np.random.randn(100)\n",
    "subplot(2,2,1)\n",
    "ax = sns.distplot(df.availability_30)\n",
    "\n",
    "subplot(2,2,2)\n",
    "ax = sns.distplot(df.availability_60)\n",
    "\n",
    "subplot(2,2,3)\n",
    "ax = sns.distplot(df.availability_90)\n",
    "\n",
    "subplot(2,2,4)\n",
    "ax = sns.distplot(df.availability_365)\n",
    "\n",
    "plt.show()\n"
   ]
  },
  {
   "cell_type": "markdown",
   "id": "3f5016a3",
   "metadata": {},
   "source": [
    "So of the properties are available throughout the year."
   ]
  },
  {
   "cell_type": "markdown",
   "id": "22b96108",
   "metadata": {},
   "source": [
    "# We want to understand whether the reviews support the ratings or not. Is there any discrepancy between ratings and reviews? "
   ]
  },
  {
   "cell_type": "code",
   "execution_count": null,
   "id": "95e8d292",
   "metadata": {},
   "outputs": [],
   "source": [
    "df.corr()"
   ]
  },
  {
   "cell_type": "code",
   "execution_count": null,
   "id": "1de68e45",
   "metadata": {
    "scrolled": true
   },
   "outputs": [],
   "source": [
    "# Find the relationship between review score accuracy and review score rating\n",
    "# Plot the HeatMap to see which variables have the strong correlationships \n",
    "plt.figure(figsize = (20,15))\n",
    "heat_map = sns.heatmap(df.corr(), annot = True, linewidth = 1.5, linecolor = \"black\", fmt = \".2f\", center = 0, vmin = -1, vmax = 1, cmap = \"RdBu\")\n",
    "plt.title(\"HeatMap using Seaborn Method\", size = 25)\n",
    "plt.show()"
   ]
  },
  {
   "cell_type": "code",
   "execution_count": null,
   "id": "2db134dd",
   "metadata": {},
   "outputs": [],
   "source": [
    "# Check all variables to see which variable has the strongest correlationship with \"review_scores_accuracy\"\n",
    "df.corr()[\"review_scores_accuracy\"].sort_values(ascending = False)[df.corr()[\"review_scores_accuracy\"].sort_values() > 0].head(10)"
   ]
  },
  {
   "cell_type": "markdown",
   "id": "b90cc889",
   "metadata": {},
   "source": [
    "The result tells us that \"review_scores_rating\" has the strongest correlationship to \"review_scores_accuracy\". \n",
    "The next leading factors are \"review_scores_value\", and \"review_scores_cleanliness\"."
   ]
  },
  {
   "cell_type": "markdown",
   "id": "b50a0b02",
   "metadata": {},
   "source": [
    "# Which variables can affect the price? "
   ]
  },
  {
   "cell_type": "code",
   "execution_count": null,
   "id": "89391ec6",
   "metadata": {},
   "outputs": [],
   "source": [
    "fig = px.box(df, y=\"price\", color = \"accommodates\")\n",
    "fig.show()"
   ]
  },
  {
   "cell_type": "code",
   "execution_count": null,
   "id": "9373ffb0",
   "metadata": {
    "scrolled": true
   },
   "outputs": [],
   "source": [
    "df.info()"
   ]
  },
  {
   "cell_type": "code",
   "execution_count": null,
   "id": "3cc6ebc1",
   "metadata": {},
   "outputs": [],
   "source": [
    "# Check all variables to see which variable has the strongest correlationship with \"price\"\n",
    "df.corr()['price'].sort_values(ascending=False)[df.corr()['price'].sort_values()>0].head(11)"
   ]
  },
  {
   "cell_type": "markdown",
   "id": "5b9c431b",
   "metadata": {},
   "source": [
    "We found out that accomodates, bedrooms, and beds are the top three variables that have the most correlation with price."
   ]
  },
  {
   "cell_type": "code",
   "execution_count": null,
   "id": "de50d4e2",
   "metadata": {},
   "outputs": [],
   "source": [
    "df.corr()['price'].sort_values()[df.corr()['price'].sort_values()<0].head(10)"
   ]
  },
  {
   "cell_type": "markdown",
   "id": "a07373e6",
   "metadata": {},
   "source": [
    "We found out that reviews_per_month, Number_of_reviews and longitude are the top three variables that have the negative correlation with price"
   ]
  },
  {
   "cell_type": "markdown",
   "id": "e5fc9c2f",
   "metadata": {},
   "source": [
    "# Busiest time to visit Seattle"
   ]
  },
  {
   "cell_type": "code",
   "execution_count": null,
   "id": "1c1206cc",
   "metadata": {},
   "outputs": [],
   "source": [
    "# Unique count of the houses listed in a month\n",
    "mon_avail = cal.groupby('mon')['listing_id'].nunique()\n",
    "mon_avail\n",
    "\n",
    "# # Plot the number of unique houses for every month\n",
    "plt.figure(figsize=[12,8]);\n",
    "ax = sns.barplot(mon_avail.index,mon_avail).set(title='Busiest times to visit Seattle')\n",
    "plt.xlabel('Month');\n",
    "plt.ylabel('Number of houses available');\n",
    "plt.show()\n"
   ]
  },
  {
   "cell_type": "markdown",
   "id": "a26c0b25",
   "metadata": {},
   "source": [
    " We observe that:\n",
    "- From a total of 3818 house those were listed on Airbnb, 3600 houses are available in Jan for at least a day. \n",
    "- We also notice that July and August has the minimum number of houses ~2500 available for at least a day.\n",
    "\n",
    "Hence, we can conclude that July and August are the busiest times to visit Seattle. As observed from the trend,Summer generally attracts more people hence is busiest period of the year to visit Seattle."
   ]
  },
  {
   "cell_type": "code",
   "execution_count": null,
   "id": "5e5fc308",
   "metadata": {},
   "outputs": [],
   "source": [
    "# Calculate the spike in the prices per month\n",
    "mon_avg_price = cal.groupby('mon')['price'].mean()\n",
    "mon_avg_price\n",
    "# # Plot the average monthly price for all months\n",
    "plt.figure(figsize=[12,6]);\n",
    "plt.plot(mon_avg_price.index, mon_avg_price);\n",
    "plt.xlabel('Month');\n",
    "plt.ylabel('Avg. Price');\n",
    "plt.title('Montly spike in the prices observed');"
   ]
  },
  {
   "cell_type": "markdown",
   "id": "4d127ce8",
   "metadata": {},
   "source": [
    "We observe that:\n",
    "- Trends show that average price increased during Summer(June,July,Aug) with a peak observed during July with average price of around $152. \n",
    "- After the peak in July, the average price continues to decrease steadily until November after that it starts to increase again."
   ]
  },
  {
   "cell_type": "markdown",
   "id": "1b9e2a08",
   "metadata": {},
   "source": [
    "# What are the characteristics of the high rating properties?"
   ]
  },
  {
   "cell_type": "code",
   "execution_count": null,
   "id": "77db8a19",
   "metadata": {},
   "outputs": [],
   "source": [
    "df[\"review_scores_rating\"].describe()"
   ]
  },
  {
   "cell_type": "code",
   "execution_count": null,
   "id": "3a30dd00",
   "metadata": {},
   "outputs": [],
   "source": [
    "ax = sns.distplot(df.review_scores_rating)"
   ]
  },
  {
   "cell_type": "markdown",
   "id": "b749d351",
   "metadata": {},
   "source": [
    "According to the descriptive statistics and the frequency distribution above, the average review scores are about 94.54 points and more than 17.5% properties (with total 3171 properties) received 100 points.\n",
    "Properties that received 100 points are set as high rating properties.\n",
    "\n",
    "To find out the high rating properties' charateristics, we are going to compare the statistics between properties that received full points to those properties that did not recieve full marks."
   ]
  },
  {
   "cell_type": "markdown",
   "id": "d6bdf7ac",
   "metadata": {},
   "source": [
    "##### Overview"
   ]
  },
  {
   "cell_type": "code",
   "execution_count": null,
   "id": "8d467609",
   "metadata": {},
   "outputs": [],
   "source": [
    "high_rating = df[(df.review_scores_rating == 100)] \n",
    "other_rating = df[(df.review_scores_rating != 100)]"
   ]
  },
  {
   "cell_type": "code",
   "execution_count": null,
   "id": "c089e93e",
   "metadata": {},
   "outputs": [],
   "source": [
    "high_rating.describe()"
   ]
  },
  {
   "cell_type": "code",
   "execution_count": null,
   "id": "00fa75e0",
   "metadata": {},
   "outputs": [],
   "source": [
    "other_rating.describe()"
   ]
  },
  {
   "cell_type": "markdown",
   "id": "f35407bb",
   "metadata": {},
   "source": [
    "##### Property type"
   ]
  },
  {
   "cell_type": "code",
   "execution_count": null,
   "id": "4bd5e798",
   "metadata": {},
   "outputs": [],
   "source": [
    "# property_type\n",
    "fig, axes = plt.subplots(nrows=2, ncols=1)\n",
    "sns.countplot(high_rating.property_type,palette=\"muted\",order = high_rating['property_type'].value_counts().index, ax=axes[0])\n",
    "sns.countplot(other_rating.property_type,palette=\"muted\",order = other_rating['property_type'].value_counts().index, ax=axes[1])\n",
    "plt.show()"
   ]
  },
  {
   "cell_type": "markdown",
   "id": "0f03b1b1",
   "metadata": {},
   "source": [
    "##### Conditions"
   ]
  },
  {
   "cell_type": "code",
   "execution_count": null,
   "id": "9b2c2362",
   "metadata": {},
   "outputs": [],
   "source": [
    "# accommodates\n",
    "fig, axes = plt.subplots(nrows=1, ncols=2)\n",
    "sns.countplot(high_rating.accommodates,palette=\"muted\",order = high_rating['accommodates'].value_counts().index, ax=axes[0])\n",
    "sns.countplot(other_rating.accommodates,palette=\"muted\",order = other_rating['accommodates'].value_counts().index, ax=axes[1])\n",
    "plt.show()"
   ]
  },
  {
   "cell_type": "code",
   "execution_count": null,
   "id": "d66f466a",
   "metadata": {},
   "outputs": [],
   "source": [
    "# bathrooms\n",
    "fig, axes = plt.subplots(nrows=1, ncols=2)\n",
    "sns.countplot(high_rating.bathrooms,palette=\"muted\",order = high_rating['bathrooms'].value_counts().index, ax=axes[0])\n",
    "sns.countplot(other_rating.bathrooms,palette=\"muted\",order = other_rating['bathrooms'].value_counts().index, ax=axes[1])\n",
    "plt.show()"
   ]
  },
  {
   "cell_type": "code",
   "execution_count": null,
   "id": "15b63e18",
   "metadata": {},
   "outputs": [],
   "source": [
    "# bedrooms\n",
    "fig, axes = plt.subplots(nrows=1, ncols=2)\n",
    "sns.countplot(high_rating.bedrooms,palette=\"muted\",order = high_rating['bedrooms'].value_counts().index, ax=axes[0])\n",
    "sns.countplot(other_rating.bedrooms,palette=\"muted\",order = other_rating['bedrooms'].value_counts().index, ax=axes[1])\n",
    "plt.show()"
   ]
  },
  {
   "cell_type": "code",
   "execution_count": null,
   "id": "1bf6fbcc",
   "metadata": {},
   "outputs": [],
   "source": [
    "# beds\n",
    "fig, axes = plt.subplots(nrows=1, ncols=2)\n",
    "sns.countplot(high_rating.beds,palette=\"muted\",order = high_rating['beds'].value_counts().index, ax=axes[0])\n",
    "sns.countplot(other_rating.beds,palette=\"muted\",order = other_rating['beds'].value_counts().index, ax=axes[1])\n",
    "plt.show()"
   ]
  },
  {
   "cell_type": "code",
   "execution_count": null,
   "id": "b918e4dc",
   "metadata": {},
   "outputs": [],
   "source": [
    "# Square_feet\n",
    "high_rating['square_feet'].describe()"
   ]
  },
  {
   "cell_type": "code",
   "execution_count": null,
   "id": "cdf2566a",
   "metadata": {},
   "outputs": [],
   "source": [
    "other_rating['square_feet'].describe()"
   ]
  },
  {
   "cell_type": "markdown",
   "id": "f3365e98",
   "metadata": {},
   "source": [
    "##### Booking and cancel aspects"
   ]
  },
  {
   "cell_type": "code",
   "execution_count": null,
   "id": "ac79adcf",
   "metadata": {},
   "outputs": [],
   "source": [
    "# instant_bookable\n",
    "fig, axes = plt.subplots(nrows=1, ncols=2)\n",
    "sns.countplot(high_rating.instant_bookable,palette=\"muted\",order = high_rating['instant_bookable'].value_counts().index, ax=axes[0])\n",
    "sns.countplot(other_rating.instant_bookable,palette=\"muted\",order = other_rating['instant_bookable'].value_counts().index, ax=axes[1])\n",
    "plt.show()"
   ]
  },
  {
   "cell_type": "code",
   "execution_count": null,
   "id": "4fb97de4",
   "metadata": {},
   "outputs": [],
   "source": [
    "# cancellation_policy\n",
    "fig, axes = plt.subplots(nrows=1, ncols=2)\n",
    "sns.countplot(high_rating.cancellation_policy,palette=\"muted\",order = high_rating['cancellation_policy'].value_counts().index, ax=axes[0])\n",
    "sns.countplot(other_rating.cancellation_policy,palette=\"muted\",order = other_rating['cancellation_policy'].value_counts().index, ax=axes[1])\n",
    "plt.show()"
   ]
  },
  {
   "cell_type": "markdown",
   "id": "b134a83f",
   "metadata": {},
   "source": [
    "##### Avaibility"
   ]
  },
  {
   "cell_type": "code",
   "execution_count": null,
   "id": "9367491f",
   "metadata": {},
   "outputs": [],
   "source": [
    "# availability_30 \n",
    "fig, axes = plt.subplots(nrows=1, ncols=2)\n",
    "sns.countplot(high_rating.availability_30,palette=\"muted\",order = high_rating['availability_30'].value_counts().index, ax=axes[0])\n",
    "sns.countplot(other_rating.availability_30,palette=\"muted\",order = other_rating['availability_30'].value_counts().index, ax=axes[1])\n",
    "plt.show()"
   ]
  },
  {
   "cell_type": "markdown",
   "id": "74aa54e3",
   "metadata": {},
   "source": [
    "##### Price"
   ]
  },
  {
   "cell_type": "code",
   "execution_count": null,
   "id": "620da28e",
   "metadata": {},
   "outputs": [],
   "source": [
    "# price\n",
    "high_rating['price'].str.slice(start=1).str.replace(',', '').astype(float).describe()"
   ]
  },
  {
   "cell_type": "code",
   "execution_count": null,
   "id": "9c02fff7",
   "metadata": {},
   "outputs": [],
   "source": [
    "other_rating['price'].str.slice(start=1).str.replace(',', '').astype(float).describe()"
   ]
  },
  {
   "cell_type": "markdown",
   "id": "2c37fadb",
   "metadata": {},
   "source": [
    "##### Location"
   ]
  },
  {
   "cell_type": "code",
   "execution_count": null,
   "id": "516d8c55",
   "metadata": {},
   "outputs": [],
   "source": [
    "# location \n",
    "fig, axes = plt.subplots(nrows=2, ncols=1)\n",
    "sns.scatterplot(y=high_rating.latitude,x=high_rating.longitude,hue=high_rating.neighbourhood_group_cleansed,palette=\"coolwarm\",ax=axes[0])\n",
    "sns.scatterplot(y=other_rating.latitude,x=other_rating.longitude,hue=other_rating.neighbourhood_group_cleansed,palette=\"coolwarm\",ax=axes[1])\n",
    "plt.show()"
   ]
  },
  {
   "cell_type": "markdown",
   "id": "d02d5075",
   "metadata": {},
   "source": [
    "### Review Sentiment Analysis"
   ]
  },
  {
   "cell_type": "code",
   "execution_count": null,
   "id": "47e0de5e",
   "metadata": {},
   "outputs": [],
   "source": [
    "#import matplotlib.pyplot as plt\n",
    "import seaborn as sns\n",
    "color = sns.color_palette()\n",
    "%matplotlib inline\n",
    "import plotly.offline as py\n",
    "py.init_notebook_mode(connected=True)\n",
    "import plotly.graph_objs as go\n",
    "import plotly.tools as tls\n",
    "import plotly.express as px\n",
    "import pandas as pd\n",
    "import numpy as np\n",
    "import matplotlib.pyplot as plt\n",
    "import glob\n",
    "import os\n",
    "import nltk\n",
    "from nltk.corpus import stopwords\n",
    "from wordcloud import WordCloud, STOPWORDS, ImageColorGenerator\n",
    "nltk.download('stopwords')\n",
    "nltk.download('punkt')"
   ]
  },
  {
   "cell_type": "code",
   "execution_count": null,
   "id": "983f0a69",
   "metadata": {},
   "outputs": [],
   "source": [
    "listings = pd.read_csv(\"/Users/snehaltikone/Spring_2022/DataMining/Project/archive/listings.csv\")"
   ]
  },
  {
   "cell_type": "code",
   "execution_count": null,
   "id": "7c5f9348",
   "metadata": {},
   "outputs": [],
   "source": [
    "## Creating a dataset with neiborhood reviews and area\n",
    "neighbourhood = listings[['neighborhood_overview','neighbourhood','review_scores_rating']]"
   ]
  },
  {
   "cell_type": "code",
   "execution_count": null,
   "id": "4b1d89ba",
   "metadata": {},
   "outputs": [],
   "source": [
    "#Checing for null values\n",
    "neighbourhood.isna().sum()"
   ]
  },
  {
   "cell_type": "code",
   "execution_count": null,
   "id": "3c9d376e",
   "metadata": {},
   "outputs": [],
   "source": [
    "#Deleting rows with null values\n",
    "neighbourhood=neighbourhood.dropna()"
   ]
  },
  {
   "cell_type": "code",
   "execution_count": null,
   "id": "294223cd",
   "metadata": {},
   "outputs": [],
   "source": [
    "#After dropping rows with null values\n",
    "neighbourhood.isnull()"
   ]
  },
  {
   "cell_type": "code",
   "execution_count": null,
   "id": "d03e134b",
   "metadata": {},
   "outputs": [],
   "source": [
    "##Here begins the fun\n",
    "#Stop words is pre-defined python list of common english words which we never consider for any analysis. \n",
    "#We can update the stopword list\n",
    "\n",
    "stopwords = set(STOPWORDS)\n",
    "stopwords.update([\"br\", \"href\",\"Ballard\",\"Capitol Hill\",\"Queen Anne\",\"Seattle\",\"Capitol Hill\",\"home\",\"Fremont\"])\n",
    "textt = \" \".join(review for review in neighbourhood.neighborhood_overview) \n",
    "wordcloud = WordCloud(stopwords=stopwords).generate(textt)\n",
    "\n",
    "\n",
    "fig = plt.gcf()\n",
    "fig.set_size_inches(15, 10)\n",
    "plt.imshow(wordcloud, interpolation='bilinear')\n",
    "plt.axis(\"off\")\n",
    "plt.savefig('wordcloud11.png')\n",
    "plt.show()"
   ]
  },
  {
   "cell_type": "markdown",
   "id": "39001444",
   "metadata": {},
   "source": [
    "### Categorizing the reviews "
   ]
  },
  {
   "cell_type": "code",
   "execution_count": null,
   "id": "87cb8573",
   "metadata": {},
   "outputs": [],
   "source": [
    "# assign reviews with score > 85 as positive sentiment\n",
    "# score < 85 negative sentiment\n",
    "# remove score = 85\n",
    "neighbourhood = neighbourhood[neighbourhood['review_scores_rating'] != 85]\n",
    "neighbourhood['sentiment'] = neighbourhood['review_scores_rating'].apply(lambda rating : +1 if rating > 85 else -1)"
   ]
  },
  {
   "cell_type": "code",
   "execution_count": null,
   "id": "86b6c47b",
   "metadata": {},
   "outputs": [],
   "source": [
    "# split df - positive and negative sentiment:\n",
    "positive = neighbourhood[neighbourhood['sentiment'] == 1]\n",
    "negative = neighbourhood[neighbourhood['sentiment'] == -1]"
   ]
  },
  {
   "cell_type": "markdown",
   "id": "424cd667",
   "metadata": {},
   "source": [
    "### Positive Reviews Bundle"
   ]
  },
  {
   "cell_type": "code",
   "execution_count": null,
   "id": "8a9b2241",
   "metadata": {},
   "outputs": [],
   "source": [
    "stopwords = set(STOPWORDS)\n",
    "stopwords.update([\"br\", \"href\",\"sad\",\"creepy\",\"area\",\"city\",\"walk\",\"restaurant\",'restaurants',\"neighborhood\",\"Seattle\",'downtown','minute','Park','Capitol', 'Hill','house','home','Fremont',' Capitol Hill']) \n",
    "## good and great removed because they were included in negative sentiment\n",
    "pos = \" \".join(review for review in positive.neighborhood_overview)\n",
    "wordcloud2 = WordCloud(stopwords=stopwords,background_color='skyblue').generate(pos)\n",
    "plt.imshow(wordcloud2, interpolation='bilinear')\n",
    "plt.axis(\"off\")\n",
    "plt.show()"
   ]
  },
  {
   "cell_type": "markdown",
   "id": "9ef07226",
   "metadata": {},
   "source": [
    "### Negative Reviews Bundle"
   ]
  },
  {
   "cell_type": "code",
   "execution_count": null,
   "id": "bce82694",
   "metadata": {
    "scrolled": true
   },
   "outputs": [],
   "source": [
    "neg = \" \".join(review for review in negative.neighborhood_overview)\n",
    "stopwords.update([\"br\", \"href\",\"sad\",\"creepy\",\"area\",\"city\",\"walk\",\"restaurant\",'restaurants',\"neighborhood\",\"Seattle\",'downtown','minute','Park','Capitol Hill','house','home','Fremont','great','located','bar',\n",
    "'shop','Capitol  Hill','food','Pike Place','shops','Capitol','Hill','best','will','close','one','many']) \n",
    "wordcloud3 = WordCloud(stopwords=stopwords,background_color='white').generate(neg)\n",
    "plt.imshow(wordcloud3, interpolation='bilinear')\n",
    "plt.axis(\"off\")\n",
    "plt.savefig('wordcloud33.png')\n",
    "plt.show()"
   ]
  },
  {
   "cell_type": "markdown",
   "id": "5bedd592",
   "metadata": {},
   "source": [
    "## Positive Reviews Vs Negative reviews"
   ]
  },
  {
   "cell_type": "code",
   "execution_count": null,
   "id": "d4556ca0",
   "metadata": {},
   "outputs": [],
   "source": [
    "neighbourhood['sentimentt'] = neighbourhood['sentiment'].replace({-1 : 'negative'})\n",
    "neighbourhood['sentimentt'] = neighbourhood['sentimentt'].replace({1 : 'positive'})\n",
    "fig = px.histogram(neighbourhood, x=\"sentimentt\",labels=dict(sentimentt=\"Reviews\"))\n",
    "fig.update_traces(marker_color=\"pink\",marker_line_color='rgb(8,48,107)', marker_line_width=1.5)\n",
    "fig.update_layout(title_text='Airbnb Reviews Sentiments',title_x=0.5)\n",
    "fig.show()"
   ]
  },
  {
   "cell_type": "code",
   "execution_count": null,
   "id": "c3c7bc78",
   "metadata": {},
   "outputs": [],
   "source": [
    "len(neighbourhood) ## since neighborhood is a tuple we cannot use shape hence used len()"
   ]
  },
  {
   "cell_type": "code",
   "execution_count": null,
   "id": "3d88104c",
   "metadata": {},
   "outputs": [],
   "source": [
    "2047/2189"
   ]
  },
  {
   "cell_type": "code",
   "execution_count": null,
   "id": "bdca2258",
   "metadata": {},
   "outputs": [],
   "source": [
    "142/2189"
   ]
  },
  {
   "cell_type": "markdown",
   "id": "d45aa4c5",
   "metadata": {},
   "source": [
    "## End"
   ]
  },
  {
   "cell_type": "code",
   "execution_count": null,
   "id": "e964b217",
   "metadata": {},
   "outputs": [],
   "source": []
  }
 ],
 "metadata": {
  "kernelspec": {
   "display_name": "Python 3 (ipykernel)",
   "language": "python",
   "name": "python3"
  },
  "language_info": {
   "codemirror_mode": {
    "name": "ipython",
    "version": 3
   },
   "file_extension": ".py",
   "mimetype": "text/x-python",
   "name": "python",
   "nbconvert_exporter": "python",
   "pygments_lexer": "ipython3",
   "version": "3.9.7"
  }
 },
 "nbformat": 4,
 "nbformat_minor": 5
}
